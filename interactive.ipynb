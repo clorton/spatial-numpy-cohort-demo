{
 "cells": [
  {
   "cell_type": "code",
   "execution_count": null,
   "id": "9bb311e7",
   "metadata": {},
   "outputs": [],
   "source": [
    "import numpy as np\n",
    "import panel as pn\n",
    "\n",
    "PRIMARY_COLOR = \"#0072B5\"\n",
    "SECONDARY_COLOR = \"#B54300\"\n",
    "\n",
    "pn.extension(design=\"material\", sizing_mode=\"stretch_width\")"
   ]
  },
  {
   "cell_type": "code",
   "execution_count": null,
   "id": "80bdae9c",
   "metadata": {},
   "outputs": [],
   "source": [
    "from settlements import parse_settlements\n",
    "from spatial_sim import Params, init_state, step_state"
   ]
  },
  {
   "cell_type": "code",
   "execution_count": null,
   "id": "2e939c51",
   "metadata": {},
   "outputs": [],
   "source": [
    "params = Params(\n",
    "    beta=32, seasonality=0.16, demog_scale=1.0, \n",
    "    mixing_scale=0.002, distance_exponent=1.5)"
   ]
  },
  {
   "cell_type": "code",
   "execution_count": null,
   "id": "47e9536a",
   "metadata": {},
   "outputs": [],
   "source": [
    "@pn.cache\n",
    "def get_data():\n",
    "    return parse_settlements()\n",
    "\n",
    "settlements_df = get_data()\n",
    "\n",
    "settlements_df.head()"
   ]
  },
  {
   "cell_type": "code",
   "execution_count": null,
   "id": "5d92f4c3",
   "metadata": {},
   "outputs": [],
   "source": [
    "state = init_state(settlements_df, params)\n",
    "t = 0"
   ]
  },
  {
   "cell_type": "code",
   "execution_count": null,
   "id": "afa57147",
   "metadata": {},
   "outputs": [],
   "source": [
    "beta_slider = pn.widgets.FloatSlider(value=params.beta, start=0, end=50, step=1, name='beta')\n",
    "def on_beta_change(value):\n",
    "    params.beta = value\n",
    "bound_beta = pn.bind(on_beta_change, value=beta_slider)\n",
    "\n",
    "seasonality_slider = pn.widgets.FloatSlider(value=params.seasonality, start=0, end=0.3, step=0.02, name='seasonality')\n",
    "def on_seasonality_change(value):\n",
    "    params.seasonality = value\n",
    "bound_seasonality = pn.bind(on_seasonality_change, value=seasonality_slider)\n",
    "\n",
    "demog_scale_slider = pn.widgets.FloatSlider(value=params.demog_scale, start=0.1, end=1.5, step=0.05, name='demog_scale')\n",
    "def on_demog_scale_change(value):\n",
    "    params.demog_scale = value\n",
    "    params.biweek_avg_births = params.demog_scale * params.births / 26.\n",
    "    params.biweek_death_prob = params.demog_scale * params.births / params.population / 26.\n",
    "bound_demog_scale = pn.bind(on_demog_scale_change, value=demog_scale_slider)"
   ]
  },
  {
   "cell_type": "code",
   "execution_count": null,
   "id": "52c63fc3",
   "metadata": {},
   "outputs": [],
   "source": [
    "from bokeh import models, plotting, io\n",
    "from bokeh.palettes import Reds256\n",
    "\n",
    "source = models.ColumnDataSource(dict(\n",
    "    name=settlements_df.index,\n",
    "    x=settlements_df.Long, \n",
    "    y=settlements_df.Lat,\n",
    "    size=0.03*np.sqrt(settlements_df.population),\n",
    "    prevalence=state[:, 1] / state[:, :].sum(axis=-1)\n",
    "))\n",
    "\n",
    "exp_cmap = models.LogColorMapper(palette=Reds256[::-1], low=1e-4, high=0.01)\n",
    "\n",
    "p = plotting.figure(\n",
    "    x_axis_label=\"Longitude\", y_axis_label=\"Latitude\",\n",
    "    title=\"Prevalence\",\n",
    ")\n",
    "p.scatter(x=\"x\", y=\"y\", size=\"size\", color={\"field\": \"prevalence\", \"transform\": exp_cmap}, source=source, alpha=0.5)\n",
    "\n",
    "io.curdoc().add_root(p)\n",
    "\n",
    "def simulate_step():\n",
    "    global t\n",
    "    t += 1\n",
    "    yield step_state(state, params, t)\n",
    "\n",
    "def stream():\n",
    "    next(simulate_step())\n",
    "    p.title.text = \"Prevalence ({:.2f} years)\".format(t/26.)\n",
    "    source.data[\"prevalence\"] = state[:, 1] / state[:, :].sum(axis=-1)\n",
    "\n",
    "io.curdoc().add_periodic_callback(stream, 50)"
   ]
  },
  {
   "cell_type": "code",
   "execution_count": null,
   "id": "2a38a901",
   "metadata": {},
   "outputs": [],
   "source": [
    "pn.Column(\n",
    "    pn.Row(beta_slider, bound_beta),\n",
    "    pn.Row(seasonality_slider, bound_seasonality),\n",
    "    pn.Row(demog_scale_slider, bound_demog_scale)\n",
    ")"
   ]
  },
  {
   "cell_type": "code",
   "execution_count": null,
   "id": "45c6ba67",
   "metadata": {},
   "outputs": [],
   "source": [
    "pn.template.MaterialTemplate(\n",
    "    site=\"numpy demo\",\n",
    "    title=\"Interactive Spatial Simulation\",\n",
    "    sidebar=[beta_slider, seasonality_slider, demog_scale_slider],\n",
    "    main=[p],\n",
    ").servable();  # The ; is needed in the notebook to not display the template"
   ]
  },
  {
   "cell_type": "code",
   "execution_count": null,
   "id": "1dcd9fde",
   "metadata": {},
   "outputs": [],
   "source": [
    "# In a terminal run: panel serve interactive.ipynb --autoreload\n",
    "# Navigate to served site at: http://localhost:[port]/interactive"
   ]
  }
 ],
 "metadata": {
  "kernelspec": {
   "display_name": "Python 3 (ipykernel)",
   "language": "python",
   "name": "python3"
  },
  "language_info": {
   "codemirror_mode": {
    "name": "ipython",
    "version": 3
   },
   "file_extension": ".py",
   "mimetype": "text/x-python",
   "name": "python",
   "nbconvert_exporter": "python",
   "pygments_lexer": "ipython3",
   "version": "3.11.4"
  }
 },
 "nbformat": 4,
 "nbformat_minor": 5
}
