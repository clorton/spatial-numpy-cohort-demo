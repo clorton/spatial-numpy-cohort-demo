{
 "cells": [
  {
   "cell_type": "code",
   "execution_count": null,
   "id": "9bb311e7",
   "metadata": {},
   "outputs": [],
   "source": [
    "import numpy as np\n",
    "import panel as pn\n",
    "\n",
    "PRIMARY_COLOR = \"#0072B5\"\n",
    "SECONDARY_COLOR = \"#B54300\"\n",
    "\n",
    "pn.extension(design=\"material\", sizing_mode=\"stretch_width\")"
   ]
  },
  {
   "cell_type": "code",
   "execution_count": null,
   "id": "80bdae9c",
   "metadata": {},
   "outputs": [],
   "source": [
    "from settlements import parse_settlements\n",
    "from spatial_sim import Params, init_state, step_state"
   ]
  },
  {
   "cell_type": "code",
   "execution_count": null,
   "id": "47e9536a",
   "metadata": {},
   "outputs": [],
   "source": [
    "@pn.cache\n",
    "def get_data():\n",
    "    return parse_settlements()\n",
    "\n",
    "settlements_df = get_data()\n",
    "\n",
    "settlements_df.head()"
   ]
  },
  {
   "cell_type": "code",
   "execution_count": null,
   "id": "2e939c51",
   "metadata": {},
   "outputs": [],
   "source": [
    "def reset_params():\n",
    "\n",
    "    return Params(\n",
    "        beta=32, seasonality=0.16, demog_scale=1.0, \n",
    "        mixing_scale=0.002, distance_exponent=1.5)\n",
    "\n",
    "params = reset_params()"
   ]
  },
  {
   "cell_type": "code",
   "execution_count": null,
   "id": "5d92f4c3",
   "metadata": {},
   "outputs": [],
   "source": [
    "def reset_state():\n",
    "\n",
    "    return init_state(settlements_df, params)\n",
    "\n",
    "state = reset_state()"
   ]
  },
  {
   "cell_type": "code",
   "execution_count": null,
   "id": "afa57147",
   "metadata": {},
   "outputs": [],
   "source": [
    "beta_slider = pn.widgets.FloatSlider(value=params.beta, start=0, end=50, step=1, name='beta')\n",
    "def on_beta_change(value):\n",
    "    params.beta = value\n",
    "bound_beta = pn.bind(on_beta_change, value=beta_slider)\n",
    "\n",
    "seasonality_slider = pn.widgets.FloatSlider(value=params.seasonality, start=0, end=0.3, step=0.02, name='seasonality')\n",
    "def on_seasonality_change(value):\n",
    "    params.seasonality = value\n",
    "bound_seasonality = pn.bind(on_seasonality_change, value=seasonality_slider)\n",
    "\n",
    "demog_scale_slider = pn.widgets.FloatSlider(value=params.demog_scale, start=0.1, end=1.5, step=0.05, name='demog_scale')\n",
    "def on_demog_scale_change(value):\n",
    "    params.demog_scale = value\n",
    "    params.biweek_avg_births = params.demog_scale * params.births / 26.\n",
    "    params.biweek_death_prob = params.demog_scale * params.births / params.population / 26.\n",
    "bound_demog_scale = pn.bind(on_demog_scale_change, value=demog_scale_slider)"
   ]
  },
  {
   "cell_type": "code",
   "execution_count": null,
   "id": "a7dedca7",
   "metadata": {},
   "outputs": [],
   "source": [
    "from mixing import init_gravity_diffusion\n",
    "\n",
    "mixing_scale_slider = pn.widgets.FloatSlider(value=np.log10(params.mixing_scale), start=-4, end=-2, name='log10(mixing_scale)')\n",
    "def on_mixing_scale_change(value):\n",
    "    params.mixing_scale = np.power(10, value)\n",
    "    params.mixing = init_gravity_diffusion(settlements_df, params.mixing_scale, params.distance_exponent)\n",
    "bound_mixing_scale = pn.bind(on_mixing_scale_change, value=mixing_scale_slider)\n",
    "\n",
    "distance_exponent_slider = pn.widgets.FloatSlider(value=params.distance_exponent, start=0.5, end=2.5, step=0.1, name='distance_exponent')\n",
    "def on_distance_exponent_change(value):\n",
    "    params.distance_exponent = value\n",
    "    params.mixing = init_gravity_diffusion(settlements_df, params.mixing_scale, params.distance_exponent)\n",
    "bound_distance_exponent = pn.bind(on_distance_exponent_change, value=distance_exponent_slider)"
   ]
  },
  {
   "cell_type": "code",
   "execution_count": null,
   "id": "52c63fc3",
   "metadata": {},
   "outputs": [],
   "source": [
    "from bokeh import models, plotting, io\n",
    "from bokeh.palettes import Reds256\n",
    "\n",
    "source = models.ColumnDataSource(dict(\n",
    "    name=settlements_df.index,\n",
    "    x=settlements_df.Long, \n",
    "    y=settlements_df.Lat,\n",
    "    size=0.03*np.sqrt(settlements_df.population),\n",
    "    prevalence=state[:, 1] / state[:, :].sum(axis=-1)\n",
    "))\n",
    "\n",
    "exp_cmap = models.LogColorMapper(palette=Reds256[::-1], low=1e-4, high=0.01)\n",
    "\n",
    "p = plotting.figure(\n",
    "    x_axis_label=\"Longitude\", y_axis_label=\"Latitude\",\n",
    "    title=\"Prevalence\",\n",
    ")\n",
    "p.scatter(x=\"x\", y=\"y\", size=\"size\", color={\"field\": \"prevalence\", \"transform\": exp_cmap}, source=source, alpha=0.5)\n",
    "\n",
    "io.curdoc().add_root(p)\n",
    "\n",
    "def stream():\n",
    "    step_state(state, params)\n",
    "    p.title.text = \"Prevalence (year = {:.2f})\".format(state.t/26.)\n",
    "    source.data[\"prevalence\"] = state[:, 1] / state[:, :].sum(axis=-1)\n",
    "\n",
    "callback_period = 50\n",
    "callback = pn.state.add_periodic_callback(stream, callback_period)\n",
    "\n",
    "speed_slider = pn.widgets.FloatSlider(value=callback_period, start=10, end=200, step=10, name='refresh rate (ms)')\n",
    "def on_speed_change(value):\n",
    "    callback.period = value\n",
    "bound_speed = pn.bind(on_speed_change, value=speed_slider)\n",
    "\n",
    "reset_button = pn.widgets.Button(name='Reset', button_type='primary')\n",
    "def reset(event):\n",
    "    global params, state\n",
    "    params = reset_params()\n",
    "    state = reset_state()\n",
    "    beta_slider.value = params.beta\n",
    "    seasonality_slider.value = params.seasonality\n",
    "    demog_scale_slider.value = params.demog_scale\n",
    "    mixing_scale_slider.value = np.log10(params.mixing_scale)\n",
    "    speed_slider.value = callback_period\n",
    "    if not callback.running:\n",
    "        callback.start()\n",
    "reset_button.on_click(reset)\n",
    "\n",
    "pause_button = pn.widgets.Toggle(name='Pause/Resume', value=True)\n",
    "pause_button.link(callback, bidirectional=True, value='running')"
   ]
  },
  {
   "cell_type": "code",
   "execution_count": null,
   "id": "2a38a901",
   "metadata": {},
   "outputs": [],
   "source": [
    "sliders = pn.Column(\n",
    "    \"### Simulation parameters\",\n",
    "    pn.Row(beta_slider, bound_beta),\n",
    "    pn.Row(seasonality_slider, bound_seasonality),\n",
    "    pn.Row(demog_scale_slider, bound_demog_scale),\n",
    "    pn.layout.Divider(),\n",
    "    \"### Mixing parameters\",\n",
    "    pn.Row(mixing_scale_slider, bound_mixing_scale),\n",
    "    pn.Row(distance_exponent_slider, bound_distance_exponent),\n",
    "    pn.layout.Divider(),\n",
    "    \"### Playback controls\",\n",
    "    pn.Row(speed_slider, bound_speed),\n",
    "    pn.Row(reset_button, pause_button)\n",
    ")"
   ]
  },
  {
   "cell_type": "code",
   "execution_count": null,
   "id": "45c6ba67",
   "metadata": {},
   "outputs": [],
   "source": [
    "pn.template.MaterialTemplate(\n",
    "    site=\"numpy demo\",\n",
    "    title=\"Interactive Spatial Simulation\",\n",
    "    sidebar=[sliders],\n",
    "    main=[p],\n",
    ").servable();  # The ; is needed in the notebook to not display the template"
   ]
  },
  {
   "cell_type": "code",
   "execution_count": null,
   "id": "1dcd9fde",
   "metadata": {},
   "outputs": [],
   "source": [
    "# In a terminal run: panel serve interactive.ipynb --autoreload\n",
    "# Navigate to served site at: http://localhost:[port]/interactive"
   ]
  }
 ],
 "metadata": {
  "kernelspec": {
   "display_name": "Python 3 (ipykernel)",
   "language": "python",
   "name": "python3"
  },
  "language_info": {
   "codemirror_mode": {
    "name": "ipython",
    "version": 3
   },
   "file_extension": ".py",
   "mimetype": "text/x-python",
   "name": "python",
   "nbconvert_exporter": "python",
   "pygments_lexer": "ipython3",
   "version": "3.11.4"
  }
 },
 "nbformat": 4,
 "nbformat_minor": 5
}
