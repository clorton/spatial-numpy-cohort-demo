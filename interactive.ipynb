{
 "cells": [
  {
   "cell_type": "code",
   "execution_count": null,
   "id": "e04234c6",
   "metadata": {},
   "outputs": [],
   "source": [
    "import matplotlib.pyplot as plt\n",
    "import matplotlib.animation as animation\n",
    "from matplotlib.colors import LogNorm\n",
    "import numpy as np"
   ]
  },
  {
   "cell_type": "code",
   "execution_count": null,
   "id": "80bdae9c",
   "metadata": {},
   "outputs": [],
   "source": [
    "from settlements import parse_settlements\n",
    "from spatial_sim import Params, init_state, step_state"
   ]
  },
  {
   "cell_type": "code",
   "execution_count": null,
   "id": "2e939c51",
   "metadata": {},
   "outputs": [],
   "source": [
    "params = Params(\n",
    "    beta=32, seasonality=0.16, demog_scale=1.0, \n",
    "    mixing_scale=0.002, distance_exponent=1.5)"
   ]
  },
  {
   "cell_type": "code",
   "execution_count": null,
   "id": "5d92f4c3",
   "metadata": {},
   "outputs": [],
   "source": [
    "settlements_df = parse_settlements()\n",
    "state = init_state(settlements_df, params)\n",
    "t = 0"
   ]
  },
  {
   "cell_type": "code",
   "execution_count": null,
   "id": "afa57147",
   "metadata": {},
   "outputs": [],
   "source": [
    "from ipywidgets import FloatSlider\n",
    "\n",
    "beta_slider = FloatSlider(value=params.beta, min=0, max=50, step=1, description='beta')\n",
    "def on_beta_change(v):\n",
    "    params.beta = v[\"new\"]\n",
    "beta_slider.observe(on_beta_change, names='value')\n",
    "\n",
    "seasonality_slider = FloatSlider(value=params.seasonality, min=0, max=0.3, step=0.02, description='seasonality')\n",
    "def on_seaonality_change(v):\n",
    "    params.seasonality = v[\"new\"]\n",
    "seasonality_slider.observe(on_seaonality_change, names='value')\n",
    "\n",
    "demog_scale_slider = FloatSlider(value=params.demog_scale, min=0.1, max=1.5, step=0.05, description='demog_scale')\n",
    "def on_demog_scale_change(v):\n",
    "    params.demog_scale = v[\"new\"]\n",
    "    params.biweek_avg_births *= v[\"new\"] / v[\"old\"]\n",
    "    params.biweek_death_prob *= v[\"new\"] / v[\"old\"]\n",
    "demog_scale_slider.observe(on_demog_scale_change, names='value')"
   ]
  },
  {
   "cell_type": "code",
   "execution_count": null,
   "id": "d67e762d",
   "metadata": {},
   "outputs": [],
   "source": [
    "# \"widget\" for vscode\n",
    "%matplotlib widget\n",
    "\n",
    "# \"notebook\" for jupyter notebook (+ add a plt.show() after animation.FuncAnimation function call)\n",
    "# %matplotlib notebook\n",
    "\n",
    "fig, ax = plt.subplots()\n",
    "\n",
    "scat = ax.scatter(\n",
    "    settlements_df.Long, \n",
    "    settlements_df.Lat, \n",
    "    s=0.1*np.sqrt(settlements_df.population), \n",
    "    c=state[:, 1] / state[:, :].sum(axis=-1), \n",
    "    cmap=\"Reds\", norm=LogNorm(vmin=1e-4, vmax=0.01), alpha=0.5)\n",
    "\n",
    "paused = False\n",
    "\n",
    "def simulate_step():\n",
    "    global paused\n",
    "    while not paused:\n",
    "        yield step_state(state, params, t)\n",
    "\n",
    "def animate(i):\n",
    "    next(simulate_step())\n",
    "    ax.set_title(\"{:.2f} years\".format(i/26.))\n",
    "    scat.set_array(state[:, 1] / state[:, :].sum(axis=-1))\n",
    "    return scat,\n",
    "\n",
    "ani = animation.FuncAnimation(fig, animate, cache_frame_data=True, interval=50, blit=False)\n",
    "\n",
    "def onClick(event):\n",
    "    global paused\n",
    "    paused ^= True\n",
    "\n",
    "fig.canvas.mpl_connect('button_press_event', onClick)"
   ]
  },
  {
   "cell_type": "code",
   "execution_count": null,
   "id": "2a38a901",
   "metadata": {},
   "outputs": [],
   "source": [
    "display(beta_slider)\n",
    "display(seasonality_slider)\n",
    "display(demog_scale_slider)"
   ]
  }
 ],
 "metadata": {
  "kernelspec": {
   "display_name": "Python 3 (ipykernel)",
   "language": "python",
   "name": "python3"
  },
  "language_info": {
   "codemirror_mode": {
    "name": "ipython",
    "version": 3
   },
   "file_extension": ".py",
   "mimetype": "text/x-python",
   "name": "python",
   "nbconvert_exporter": "python",
   "pygments_lexer": "ipython3",
   "version": "3.11.4"
  }
 },
 "nbformat": 4,
 "nbformat_minor": 5
}
